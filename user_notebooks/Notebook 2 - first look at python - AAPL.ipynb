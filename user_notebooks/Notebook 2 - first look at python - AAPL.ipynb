{
 "cells": [
  {
   "cell_type": "code",
   "execution_count": 1,
   "metadata": {},
   "outputs": [],
   "source": [
    "# Importing libraries in pandas\n",
    "# + Explanation on libraries\n",
    "import pandas as pd"
   ]
  },
  {
   "cell_type": "markdown",
   "metadata": {},
   "source": [
    "# Demo - downloading data and analysing in python\n",
    "https://www.kaggle.com/achintyatripathi/yahoo-finance-apple-inc-aapl?select=AAPL_Montly_updates.csv"
   ]
  },
  {
   "cell_type": "markdown",
   "metadata": {},
   "source": [
    "# Demo - preparing Data\n",
    "* Uploading to jupyter\n",
    "* browsing through the directory\n",
    "* using pandas to read file"
   ]
  },
  {
   "cell_type": "code",
   "execution_count": 2,
   "metadata": {},
   "outputs": [],
   "source": [
    "# Reading data\n",
    "df = pd.read_csv(\"../data/sample_data.csv\")"
   ]
  },
  {
   "cell_type": "markdown",
   "metadata": {},
   "source": [
    "# Exercise  \n",
    "* download all 3 csvs from https://www.kaggle.com/achintyatripathi/yahoo-finance-apple-inc-aapl?select=AAPL_Montly_updates.csv, and read them into 3 different CSVs\n",
    "* learning points - relative pathing"
   ]
  },
  {
   "cell_type": "code",
   "execution_count": 8,
   "metadata": {},
   "outputs": [],
   "source": [
    "# TYPE ANSWER HERE\n"
   ]
  },
  {
   "cell_type": "code",
   "execution_count": 7,
   "metadata": {},
   "outputs": [],
   "source": [
    "# Reading excel files? \n",
    "df = pd.read_excel(\"../data/sample_data.xlsx\")"
   ]
  },
  {
   "cell_type": "code",
   "execution_count": null,
   "metadata": {},
   "outputs": [],
   "source": []
  },
  {
   "cell_type": "markdown",
   "metadata": {},
   "source": [
    "# Demo - basic operations on dataframes\n",
    "* print()\n",
    "* len()\n",
    "* df.unique()\n",
    "* df.columns\n",
    "* df[\"column name\"]\n",
    "\n",
    "Pandas Cheatsheet : https://www.slideshare.net/ACASH1011/pandas-cheat-sheet"
   ]
  },
  {
   "cell_type": "code",
   "execution_count": 31,
   "metadata": {},
   "outputs": [],
   "source": [
    "# Demo -> Edwin"
   ]
  },
  {
   "cell_type": "markdown",
   "metadata": {},
   "source": [
    "# Demo - Slicing data and operations on dataframes - asking questions of our data\n",
    "* On which days was volume > 100000000? How many days was this?"
   ]
  },
  {
   "cell_type": "code",
   "execution_count": 13,
   "metadata": {},
   "outputs": [
    {
     "data": {
      "text/html": [
       "<div>\n",
       "<style scoped>\n",
       "    .dataframe tbody tr th:only-of-type {\n",
       "        vertical-align: middle;\n",
       "    }\n",
       "\n",
       "    .dataframe tbody tr th {\n",
       "        vertical-align: top;\n",
       "    }\n",
       "\n",
       "    .dataframe thead th {\n",
       "        text-align: right;\n",
       "    }\n",
       "</style>\n",
       "<table border=\"1\" class=\"dataframe\">\n",
       "  <thead>\n",
       "    <tr style=\"text-align: right;\">\n",
       "      <th></th>\n",
       "      <th>Date</th>\n",
       "      <th>Open</th>\n",
       "      <th>High</th>\n",
       "      <th>Low</th>\n",
       "      <th>Close</th>\n",
       "      <th>Adj Close</th>\n",
       "      <th>Volume</th>\n",
       "    </tr>\n",
       "  </thead>\n",
       "  <tbody>\n",
       "    <tr>\n",
       "      <th>0</th>\n",
       "      <td>2019-09-10</td>\n",
       "      <td>53.465000</td>\n",
       "      <td>54.195000</td>\n",
       "      <td>52.927502</td>\n",
       "      <td>54.174999</td>\n",
       "      <td>53.642761</td>\n",
       "      <td>127111600</td>\n",
       "    </tr>\n",
       "    <tr>\n",
       "      <th>1</th>\n",
       "      <td>2019-09-11</td>\n",
       "      <td>54.517502</td>\n",
       "      <td>55.927502</td>\n",
       "      <td>54.432499</td>\n",
       "      <td>55.897499</td>\n",
       "      <td>55.348343</td>\n",
       "      <td>177158400</td>\n",
       "    </tr>\n",
       "    <tr>\n",
       "      <th>2</th>\n",
       "      <td>2019-09-12</td>\n",
       "      <td>56.200001</td>\n",
       "      <td>56.605000</td>\n",
       "      <td>55.715000</td>\n",
       "      <td>55.772499</td>\n",
       "      <td>55.224567</td>\n",
       "      <td>128906800</td>\n",
       "    </tr>\n",
       "    <tr>\n",
       "      <th>3</th>\n",
       "      <td>2019-09-13</td>\n",
       "      <td>55.000000</td>\n",
       "      <td>55.197498</td>\n",
       "      <td>54.255001</td>\n",
       "      <td>54.687500</td>\n",
       "      <td>54.150230</td>\n",
       "      <td>159053200</td>\n",
       "    </tr>\n",
       "    <tr>\n",
       "      <th>6</th>\n",
       "      <td>2019-09-18</td>\n",
       "      <td>55.264999</td>\n",
       "      <td>55.712502</td>\n",
       "      <td>54.860001</td>\n",
       "      <td>55.692501</td>\n",
       "      <td>55.145359</td>\n",
       "      <td>101360000</td>\n",
       "    </tr>\n",
       "    <tr>\n",
       "      <th>...</th>\n",
       "      <td>...</td>\n",
       "      <td>...</td>\n",
       "      <td>...</td>\n",
       "      <td>...</td>\n",
       "      <td>...</td>\n",
       "      <td>...</td>\n",
       "      <td>...</td>\n",
       "    </tr>\n",
       "    <tr>\n",
       "      <th>249</th>\n",
       "      <td>2020-09-03</td>\n",
       "      <td>126.910004</td>\n",
       "      <td>128.839996</td>\n",
       "      <td>120.500000</td>\n",
       "      <td>120.879997</td>\n",
       "      <td>120.879997</td>\n",
       "      <td>257599600</td>\n",
       "    </tr>\n",
       "    <tr>\n",
       "      <th>250</th>\n",
       "      <td>2020-09-04</td>\n",
       "      <td>120.070000</td>\n",
       "      <td>123.699997</td>\n",
       "      <td>110.889999</td>\n",
       "      <td>120.959999</td>\n",
       "      <td>120.959999</td>\n",
       "      <td>332607200</td>\n",
       "    </tr>\n",
       "    <tr>\n",
       "      <th>251</th>\n",
       "      <td>2020-09-08</td>\n",
       "      <td>113.949997</td>\n",
       "      <td>118.989998</td>\n",
       "      <td>112.680000</td>\n",
       "      <td>112.820000</td>\n",
       "      <td>112.820000</td>\n",
       "      <td>231366600</td>\n",
       "    </tr>\n",
       "    <tr>\n",
       "      <th>252</th>\n",
       "      <td>2020-09-09</td>\n",
       "      <td>117.260002</td>\n",
       "      <td>119.139999</td>\n",
       "      <td>115.260002</td>\n",
       "      <td>117.320000</td>\n",
       "      <td>117.320000</td>\n",
       "      <td>176276400</td>\n",
       "    </tr>\n",
       "    <tr>\n",
       "      <th>253</th>\n",
       "      <td>2020-09-10</td>\n",
       "      <td>120.360001</td>\n",
       "      <td>120.419998</td>\n",
       "      <td>114.150002</td>\n",
       "      <td>114.274597</td>\n",
       "      <td>114.274597</td>\n",
       "      <td>118115972</td>\n",
       "    </tr>\n",
       "  </tbody>\n",
       "</table>\n",
       "<p>192 rows × 7 columns</p>\n",
       "</div>"
      ],
      "text/plain": [
       "           Date        Open        High         Low       Close   Adj Close  \\\n",
       "0    2019-09-10   53.465000   54.195000   52.927502   54.174999   53.642761   \n",
       "1    2019-09-11   54.517502   55.927502   54.432499   55.897499   55.348343   \n",
       "2    2019-09-12   56.200001   56.605000   55.715000   55.772499   55.224567   \n",
       "3    2019-09-13   55.000000   55.197498   54.255001   54.687500   54.150230   \n",
       "6    2019-09-18   55.264999   55.712502   54.860001   55.692501   55.145359   \n",
       "..          ...         ...         ...         ...         ...         ...   \n",
       "249  2020-09-03  126.910004  128.839996  120.500000  120.879997  120.879997   \n",
       "250  2020-09-04  120.070000  123.699997  110.889999  120.959999  120.959999   \n",
       "251  2020-09-08  113.949997  118.989998  112.680000  112.820000  112.820000   \n",
       "252  2020-09-09  117.260002  119.139999  115.260002  117.320000  117.320000   \n",
       "253  2020-09-10  120.360001  120.419998  114.150002  114.274597  114.274597   \n",
       "\n",
       "        Volume  \n",
       "0    127111600  \n",
       "1    177158400  \n",
       "2    128906800  \n",
       "3    159053200  \n",
       "6    101360000  \n",
       "..         ...  \n",
       "249  257599600  \n",
       "250  332607200  \n",
       "251  231366600  \n",
       "252  176276400  \n",
       "253  118115972  \n",
       "\n",
       "[192 rows x 7 columns]"
      ]
     },
     "execution_count": 13,
     "metadata": {},
     "output_type": "execute_result"
    }
   ],
   "source": [
    "daily_df[daily_df[\"Volume\"] > 100000000]"
   ]
  },
  {
   "cell_type": "code",
   "execution_count": null,
   "metadata": {},
   "outputs": [],
   "source": []
  },
  {
   "cell_type": "markdown",
   "metadata": {},
   "source": [
    "# Exercise - Whats the first day that AAPL opened higher than $100"
   ]
  },
  {
   "cell_type": "code",
   "execution_count": 9,
   "metadata": {},
   "outputs": [],
   "source": [
    "# TYPE ANSWER HERE"
   ]
  },
  {
   "cell_type": "code",
   "execution_count": null,
   "metadata": {},
   "outputs": [],
   "source": []
  },
  {
   "cell_type": "code",
   "execution_count": null,
   "metadata": {},
   "outputs": [],
   "source": []
  },
  {
   "cell_type": "markdown",
   "metadata": {},
   "source": [
    "# Demo - Calculating statistics\n",
    "* np.sum()\n",
    "* np.mean()\n",
    "* np.median()\n",
    "* np.percentile()\n",
    "* np.min()\n",
    "* np.max()"
   ]
  },
  {
   "cell_type": "code",
   "execution_count": 18,
   "metadata": {},
   "outputs": [
    {
     "data": {
      "text/plain": [
       "2.0"
      ]
     },
     "execution_count": 18,
     "metadata": {},
     "output_type": "execute_result"
    }
   ],
   "source": [
    "import numpy as np\n",
    "np.mean([1,2,3])"
   ]
  },
  {
   "cell_type": "code",
   "execution_count": 22,
   "metadata": {},
   "outputs": [
    {
     "data": {
      "text/plain": [
       "144632315.2440945"
      ]
     },
     "execution_count": 22,
     "metadata": {},
     "output_type": "execute_result"
    }
   ],
   "source": [
    "np.mean(daily_df[\"Volume\"].values)"
   ]
  },
  {
   "cell_type": "markdown",
   "metadata": {},
   "source": [
    "# Exercise : From 1st Jan 2020 to 15th Jan 2020, what is the average closing price of AAPL?"
   ]
  },
  {
   "cell_type": "code",
   "execution_count": 33,
   "metadata": {},
   "outputs": [],
   "source": [
    "# Assignment - chaining operations\n",
    "store_value = daily_df[daily_df[\"Volume\"]>144632315]"
   ]
  },
  {
   "cell_type": "code",
   "execution_count": 30,
   "metadata": {},
   "outputs": [],
   "source": [
    "# Aside on strings and integers \n",
    "# Demo -> Edwin \n",
    "# 3 vs \"3\""
   ]
  },
  {
   "cell_type": "code",
   "execution_count": 10,
   "metadata": {},
   "outputs": [],
   "source": [
    "# TYPE ANSWER HERE!"
   ]
  },
  {
   "cell_type": "code",
   "execution_count": null,
   "metadata": {},
   "outputs": [],
   "source": []
  },
  {
   "cell_type": "markdown",
   "metadata": {},
   "source": [
    "# Demo - Apply functions \n",
    "* Suppose we want to find out what the daily difference between the open and close price is? -> need to create a new row"
   ]
  },
  {
   "cell_type": "code",
   "execution_count": 39,
   "metadata": {},
   "outputs": [],
   "source": [
    "daily_df[\"diff\"] = daily_df.apply(lambda x: x[\"Open\"]-x[\"Close\"],axis=1)"
   ]
  },
  {
   "cell_type": "code",
   "execution_count": 40,
   "metadata": {},
   "outputs": [
    {
     "data": {
      "text/html": [
       "<div>\n",
       "<style scoped>\n",
       "    .dataframe tbody tr th:only-of-type {\n",
       "        vertical-align: middle;\n",
       "    }\n",
       "\n",
       "    .dataframe tbody tr th {\n",
       "        vertical-align: top;\n",
       "    }\n",
       "\n",
       "    .dataframe thead th {\n",
       "        text-align: right;\n",
       "    }\n",
       "</style>\n",
       "<table border=\"1\" class=\"dataframe\">\n",
       "  <thead>\n",
       "    <tr style=\"text-align: right;\">\n",
       "      <th></th>\n",
       "      <th>Date</th>\n",
       "      <th>Open</th>\n",
       "      <th>High</th>\n",
       "      <th>Low</th>\n",
       "      <th>Close</th>\n",
       "      <th>Adj Close</th>\n",
       "      <th>Volume</th>\n",
       "      <th>diff</th>\n",
       "    </tr>\n",
       "  </thead>\n",
       "  <tbody>\n",
       "    <tr>\n",
       "      <th>0</th>\n",
       "      <td>2019-09-10</td>\n",
       "      <td>53.465000</td>\n",
       "      <td>54.195000</td>\n",
       "      <td>52.927502</td>\n",
       "      <td>54.174999</td>\n",
       "      <td>53.642761</td>\n",
       "      <td>127111600</td>\n",
       "      <td>1.267498</td>\n",
       "    </tr>\n",
       "    <tr>\n",
       "      <th>1</th>\n",
       "      <td>2019-09-11</td>\n",
       "      <td>54.517502</td>\n",
       "      <td>55.927502</td>\n",
       "      <td>54.432499</td>\n",
       "      <td>55.897499</td>\n",
       "      <td>55.348343</td>\n",
       "      <td>177158400</td>\n",
       "      <td>1.495003</td>\n",
       "    </tr>\n",
       "    <tr>\n",
       "      <th>2</th>\n",
       "      <td>2019-09-12</td>\n",
       "      <td>56.200001</td>\n",
       "      <td>56.605000</td>\n",
       "      <td>55.715000</td>\n",
       "      <td>55.772499</td>\n",
       "      <td>55.224567</td>\n",
       "      <td>128906800</td>\n",
       "      <td>0.890000</td>\n",
       "    </tr>\n",
       "    <tr>\n",
       "      <th>3</th>\n",
       "      <td>2019-09-13</td>\n",
       "      <td>55.000000</td>\n",
       "      <td>55.197498</td>\n",
       "      <td>54.255001</td>\n",
       "      <td>54.687500</td>\n",
       "      <td>54.150230</td>\n",
       "      <td>159053200</td>\n",
       "      <td>0.942497</td>\n",
       "    </tr>\n",
       "    <tr>\n",
       "      <th>4</th>\n",
       "      <td>2019-09-16</td>\n",
       "      <td>54.432499</td>\n",
       "      <td>55.032501</td>\n",
       "      <td>54.389999</td>\n",
       "      <td>54.974998</td>\n",
       "      <td>54.434902</td>\n",
       "      <td>84632400</td>\n",
       "      <td>0.642502</td>\n",
       "    </tr>\n",
       "    <tr>\n",
       "      <th>...</th>\n",
       "      <td>...</td>\n",
       "      <td>...</td>\n",
       "      <td>...</td>\n",
       "      <td>...</td>\n",
       "      <td>...</td>\n",
       "      <td>...</td>\n",
       "      <td>...</td>\n",
       "      <td>...</td>\n",
       "    </tr>\n",
       "    <tr>\n",
       "      <th>249</th>\n",
       "      <td>2020-09-03</td>\n",
       "      <td>126.910004</td>\n",
       "      <td>128.839996</td>\n",
       "      <td>120.500000</td>\n",
       "      <td>120.879997</td>\n",
       "      <td>120.879997</td>\n",
       "      <td>257599600</td>\n",
       "      <td>8.339996</td>\n",
       "    </tr>\n",
       "    <tr>\n",
       "      <th>250</th>\n",
       "      <td>2020-09-04</td>\n",
       "      <td>120.070000</td>\n",
       "      <td>123.699997</td>\n",
       "      <td>110.889999</td>\n",
       "      <td>120.959999</td>\n",
       "      <td>120.959999</td>\n",
       "      <td>332607200</td>\n",
       "      <td>12.809998</td>\n",
       "    </tr>\n",
       "    <tr>\n",
       "      <th>251</th>\n",
       "      <td>2020-09-08</td>\n",
       "      <td>113.949997</td>\n",
       "      <td>118.989998</td>\n",
       "      <td>112.680000</td>\n",
       "      <td>112.820000</td>\n",
       "      <td>112.820000</td>\n",
       "      <td>231366600</td>\n",
       "      <td>6.309998</td>\n",
       "    </tr>\n",
       "    <tr>\n",
       "      <th>252</th>\n",
       "      <td>2020-09-09</td>\n",
       "      <td>117.260002</td>\n",
       "      <td>119.139999</td>\n",
       "      <td>115.260002</td>\n",
       "      <td>117.320000</td>\n",
       "      <td>117.320000</td>\n",
       "      <td>176276400</td>\n",
       "      <td>3.879997</td>\n",
       "    </tr>\n",
       "    <tr>\n",
       "      <th>253</th>\n",
       "      <td>2020-09-10</td>\n",
       "      <td>120.360001</td>\n",
       "      <td>120.419998</td>\n",
       "      <td>114.150002</td>\n",
       "      <td>114.274597</td>\n",
       "      <td>114.274597</td>\n",
       "      <td>118115972</td>\n",
       "      <td>6.269996</td>\n",
       "    </tr>\n",
       "  </tbody>\n",
       "</table>\n",
       "<p>254 rows × 8 columns</p>\n",
       "</div>"
      ],
      "text/plain": [
       "           Date        Open        High         Low       Close   Adj Close  \\\n",
       "0    2019-09-10   53.465000   54.195000   52.927502   54.174999   53.642761   \n",
       "1    2019-09-11   54.517502   55.927502   54.432499   55.897499   55.348343   \n",
       "2    2019-09-12   56.200001   56.605000   55.715000   55.772499   55.224567   \n",
       "3    2019-09-13   55.000000   55.197498   54.255001   54.687500   54.150230   \n",
       "4    2019-09-16   54.432499   55.032501   54.389999   54.974998   54.434902   \n",
       "..          ...         ...         ...         ...         ...         ...   \n",
       "249  2020-09-03  126.910004  128.839996  120.500000  120.879997  120.879997   \n",
       "250  2020-09-04  120.070000  123.699997  110.889999  120.959999  120.959999   \n",
       "251  2020-09-08  113.949997  118.989998  112.680000  112.820000  112.820000   \n",
       "252  2020-09-09  117.260002  119.139999  115.260002  117.320000  117.320000   \n",
       "253  2020-09-10  120.360001  120.419998  114.150002  114.274597  114.274597   \n",
       "\n",
       "        Volume       diff  \n",
       "0    127111600   1.267498  \n",
       "1    177158400   1.495003  \n",
       "2    128906800   0.890000  \n",
       "3    159053200   0.942497  \n",
       "4     84632400   0.642502  \n",
       "..         ...        ...  \n",
       "249  257599600   8.339996  \n",
       "250  332607200  12.809998  \n",
       "251  231366600   6.309998  \n",
       "252  176276400   3.879997  \n",
       "253  118115972   6.269996  \n",
       "\n",
       "[254 rows x 8 columns]"
      ]
     },
     "execution_count": 40,
     "metadata": {},
     "output_type": "execute_result"
    }
   ],
   "source": [
    "daily_df"
   ]
  },
  {
   "cell_type": "markdown",
   "metadata": {},
   "source": [
    "# Exercise -> whats the highest diff price? whats the lowest?"
   ]
  },
  {
   "cell_type": "code",
   "execution_count": null,
   "metadata": {},
   "outputs": [],
   "source": []
  },
  {
   "cell_type": "markdown",
   "metadata": {},
   "source": [
    "# Exercise -> calculate the average difference between the high and low price for AAPL"
   ]
  },
  {
   "cell_type": "code",
   "execution_count": null,
   "metadata": {},
   "outputs": [],
   "source": []
  }
 ],
 "metadata": {
  "kernelspec": {
   "display_name": "Python 3",
   "language": "python",
   "name": "python3"
  },
  "language_info": {
   "codemirror_mode": {
    "name": "ipython",
    "version": 3
   },
   "file_extension": ".py",
   "mimetype": "text/x-python",
   "name": "python",
   "nbconvert_exporter": "python",
   "pygments_lexer": "ipython3",
   "version": "3.7.6"
  }
 },
 "nbformat": 4,
 "nbformat_minor": 4
}
